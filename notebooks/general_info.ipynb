{
 "cells": [
  {
   "cell_type": "code",
   "execution_count": 1,
   "id": "5fc11f56-1836-40ed-9498-faf3f165d34e",
   "metadata": {},
   "outputs": [],
   "source": [
    "import pandas as pd\n",
    "pd.pandas.set_option('display.max_columns',None)"
   ]
  },
  {
   "cell_type": "code",
   "execution_count": 4,
   "id": "316e3d17-f702-4d2b-acb1-4c901dc57ac5",
   "metadata": {},
   "outputs": [
    {
     "data": {
      "text/html": [
       "<div>\n",
       "<style scoped>\n",
       "    .dataframe tbody tr th:only-of-type {\n",
       "        vertical-align: middle;\n",
       "    }\n",
       "\n",
       "    .dataframe tbody tr th {\n",
       "        vertical-align: top;\n",
       "    }\n",
       "\n",
       "    .dataframe thead th {\n",
       "        text-align: right;\n",
       "    }\n",
       "</style>\n",
       "<table border=\"1\" class=\"dataframe\">\n",
       "  <thead>\n",
       "    <tr style=\"text-align: right;\">\n",
       "      <th></th>\n",
       "      <th>Entity</th>\n",
       "      <th>Code</th>\n",
       "      <th>year</th>\n",
       "      <th>Day</th>\n",
       "      <th>Average surface temperature</th>\n",
       "      <th>Average surface temperature.1</th>\n",
       "    </tr>\n",
       "  </thead>\n",
       "  <tbody>\n",
       "    <tr>\n",
       "      <th>0</th>\n",
       "      <td>Afghanistan</td>\n",
       "      <td>AFG</td>\n",
       "      <td>1940</td>\n",
       "      <td>1940-01-15</td>\n",
       "      <td>-2.032494</td>\n",
       "      <td>11.327695</td>\n",
       "    </tr>\n",
       "    <tr>\n",
       "      <th>1</th>\n",
       "      <td>Afghanistan</td>\n",
       "      <td>AFG</td>\n",
       "      <td>1940</td>\n",
       "      <td>1940-02-15</td>\n",
       "      <td>-0.733503</td>\n",
       "      <td>11.327695</td>\n",
       "    </tr>\n",
       "    <tr>\n",
       "      <th>2</th>\n",
       "      <td>Afghanistan</td>\n",
       "      <td>AFG</td>\n",
       "      <td>1940</td>\n",
       "      <td>1940-03-15</td>\n",
       "      <td>1.999134</td>\n",
       "      <td>11.327695</td>\n",
       "    </tr>\n",
       "    <tr>\n",
       "      <th>3</th>\n",
       "      <td>Afghanistan</td>\n",
       "      <td>AFG</td>\n",
       "      <td>1940</td>\n",
       "      <td>1940-04-15</td>\n",
       "      <td>10.199754</td>\n",
       "      <td>11.327695</td>\n",
       "    </tr>\n",
       "    <tr>\n",
       "      <th>4</th>\n",
       "      <td>Afghanistan</td>\n",
       "      <td>AFG</td>\n",
       "      <td>1940</td>\n",
       "      <td>1940-05-15</td>\n",
       "      <td>17.942135</td>\n",
       "      <td>11.327695</td>\n",
       "    </tr>\n",
       "  </tbody>\n",
       "</table>\n",
       "</div>"
      ],
      "text/plain": [
       "        Entity Code  year         Day  Average surface temperature  \\\n",
       "0  Afghanistan  AFG  1940  1940-01-15                    -2.032494   \n",
       "1  Afghanistan  AFG  1940  1940-02-15                    -0.733503   \n",
       "2  Afghanistan  AFG  1940  1940-03-15                     1.999134   \n",
       "3  Afghanistan  AFG  1940  1940-04-15                    10.199754   \n",
       "4  Afghanistan  AFG  1940  1940-05-15                    17.942135   \n",
       "\n",
       "   Average surface temperature.1  \n",
       "0                      11.327695  \n",
       "1                      11.327695  \n",
       "2                      11.327695  \n",
       "3                      11.327695  \n",
       "4                      11.327695  "
      ]
     },
     "execution_count": 4,
     "metadata": {},
     "output_type": "execute_result"
    }
   ],
   "source": [
    "df = pd.read_csv('../data/average-monthly-surface-temperature.csv')\n",
    "\n",
    "df.head()"
   ]
  },
  {
   "cell_type": "code",
   "execution_count": 5,
   "id": "10766458-4302-42f6-8361-3ddf05ec5b92",
   "metadata": {},
   "outputs": [
    {
     "data": {
      "text/html": [
       "<div>\n",
       "<style scoped>\n",
       "    .dataframe tbody tr th:only-of-type {\n",
       "        vertical-align: middle;\n",
       "    }\n",
       "\n",
       "    .dataframe tbody tr th {\n",
       "        vertical-align: top;\n",
       "    }\n",
       "\n",
       "    .dataframe thead th {\n",
       "        text-align: right;\n",
       "    }\n",
       "</style>\n",
       "<table border=\"1\" class=\"dataframe\">\n",
       "  <thead>\n",
       "    <tr style=\"text-align: right;\">\n",
       "      <th></th>\n",
       "      <th>Entity</th>\n",
       "      <th>Code</th>\n",
       "      <th>year</th>\n",
       "      <th>Day</th>\n",
       "      <th>Average surface temperature</th>\n",
       "      <th>Average surface temperature.1</th>\n",
       "    </tr>\n",
       "  </thead>\n",
       "  <tbody>\n",
       "    <tr>\n",
       "      <th>198895</th>\n",
       "      <td>Zimbabwe</td>\n",
       "      <td>ZWE</td>\n",
       "      <td>2024</td>\n",
       "      <td>2024-08-15</td>\n",
       "      <td>20.559408</td>\n",
       "      <td>22.92125</td>\n",
       "    </tr>\n",
       "    <tr>\n",
       "      <th>198896</th>\n",
       "      <td>Zimbabwe</td>\n",
       "      <td>ZWE</td>\n",
       "      <td>2024</td>\n",
       "      <td>2024-09-15</td>\n",
       "      <td>23.642931</td>\n",
       "      <td>22.92125</td>\n",
       "    </tr>\n",
       "    <tr>\n",
       "      <th>198897</th>\n",
       "      <td>Zimbabwe</td>\n",
       "      <td>ZWE</td>\n",
       "      <td>2024</td>\n",
       "      <td>2024-10-15</td>\n",
       "      <td>24.407030</td>\n",
       "      <td>22.92125</td>\n",
       "    </tr>\n",
       "    <tr>\n",
       "      <th>198898</th>\n",
       "      <td>Zimbabwe</td>\n",
       "      <td>ZWE</td>\n",
       "      <td>2024</td>\n",
       "      <td>2024-11-15</td>\n",
       "      <td>25.672321</td>\n",
       "      <td>22.92125</td>\n",
       "    </tr>\n",
       "    <tr>\n",
       "      <th>198899</th>\n",
       "      <td>Zimbabwe</td>\n",
       "      <td>ZWE</td>\n",
       "      <td>2024</td>\n",
       "      <td>2024-12-15</td>\n",
       "      <td>27.019161</td>\n",
       "      <td>22.92125</td>\n",
       "    </tr>\n",
       "  </tbody>\n",
       "</table>\n",
       "</div>"
      ],
      "text/plain": [
       "          Entity Code  year         Day  Average surface temperature  \\\n",
       "198895  Zimbabwe  ZWE  2024  2024-08-15                    20.559408   \n",
       "198896  Zimbabwe  ZWE  2024  2024-09-15                    23.642931   \n",
       "198897  Zimbabwe  ZWE  2024  2024-10-15                    24.407030   \n",
       "198898  Zimbabwe  ZWE  2024  2024-11-15                    25.672321   \n",
       "198899  Zimbabwe  ZWE  2024  2024-12-15                    27.019161   \n",
       "\n",
       "        Average surface temperature.1  \n",
       "198895                       22.92125  \n",
       "198896                       22.92125  \n",
       "198897                       22.92125  \n",
       "198898                       22.92125  \n",
       "198899                       22.92125  "
      ]
     },
     "execution_count": 5,
     "metadata": {},
     "output_type": "execute_result"
    }
   ],
   "source": [
    "df.tail()"
   ]
  },
  {
   "cell_type": "code",
   "execution_count": 6,
   "id": "b3ac63db-84db-4bf4-80f3-da5f04709292",
   "metadata": {},
   "outputs": [
    {
     "data": {
      "text/html": [
       "<div>\n",
       "<style scoped>\n",
       "    .dataframe tbody tr th:only-of-type {\n",
       "        vertical-align: middle;\n",
       "    }\n",
       "\n",
       "    .dataframe tbody tr th {\n",
       "        vertical-align: top;\n",
       "    }\n",
       "\n",
       "    .dataframe thead th {\n",
       "        text-align: right;\n",
       "    }\n",
       "</style>\n",
       "<table border=\"1\" class=\"dataframe\">\n",
       "  <thead>\n",
       "    <tr style=\"text-align: right;\">\n",
       "      <th></th>\n",
       "      <th>year</th>\n",
       "      <th>Average surface temperature</th>\n",
       "      <th>Average surface temperature.1</th>\n",
       "    </tr>\n",
       "  </thead>\n",
       "  <tbody>\n",
       "    <tr>\n",
       "      <th>count</th>\n",
       "      <td>198900.00000</td>\n",
       "      <td>198900.000000</td>\n",
       "      <td>198900.000000</td>\n",
       "    </tr>\n",
       "    <tr>\n",
       "      <th>mean</th>\n",
       "      <td>1982.00000</td>\n",
       "      <td>18.072073</td>\n",
       "      <td>18.072073</td>\n",
       "    </tr>\n",
       "    <tr>\n",
       "      <th>std</th>\n",
       "      <td>24.53575</td>\n",
       "      <td>10.246142</td>\n",
       "      <td>8.710114</td>\n",
       "    </tr>\n",
       "    <tr>\n",
       "      <th>min</th>\n",
       "      <td>1940.00000</td>\n",
       "      <td>-36.240032</td>\n",
       "      <td>-21.529121</td>\n",
       "    </tr>\n",
       "    <tr>\n",
       "      <th>25%</th>\n",
       "      <td>1961.00000</td>\n",
       "      <td>12.304079</td>\n",
       "      <td>10.569263</td>\n",
       "    </tr>\n",
       "    <tr>\n",
       "      <th>50%</th>\n",
       "      <td>1982.00000</td>\n",
       "      <td>22.055794</td>\n",
       "      <td>21.856285</td>\n",
       "    </tr>\n",
       "    <tr>\n",
       "      <th>75%</th>\n",
       "      <td>2003.00000</td>\n",
       "      <td>25.317015</td>\n",
       "      <td>25.142885</td>\n",
       "    </tr>\n",
       "    <tr>\n",
       "      <th>max</th>\n",
       "      <td>2024.00000</td>\n",
       "      <td>39.889374</td>\n",
       "      <td>29.794220</td>\n",
       "    </tr>\n",
       "  </tbody>\n",
       "</table>\n",
       "</div>"
      ],
      "text/plain": [
       "               year  Average surface temperature  \\\n",
       "count  198900.00000                198900.000000   \n",
       "mean     1982.00000                    18.072073   \n",
       "std        24.53575                    10.246142   \n",
       "min      1940.00000                   -36.240032   \n",
       "25%      1961.00000                    12.304079   \n",
       "50%      1982.00000                    22.055794   \n",
       "75%      2003.00000                    25.317015   \n",
       "max      2024.00000                    39.889374   \n",
       "\n",
       "       Average surface temperature.1  \n",
       "count                  198900.000000  \n",
       "mean                       18.072073  \n",
       "std                         8.710114  \n",
       "min                       -21.529121  \n",
       "25%                        10.569263  \n",
       "50%                        21.856285  \n",
       "75%                        25.142885  \n",
       "max                        29.794220  "
      ]
     },
     "execution_count": 6,
     "metadata": {},
     "output_type": "execute_result"
    }
   ],
   "source": [
    "df.describe()"
   ]
  },
  {
   "cell_type": "code",
   "execution_count": 7,
   "id": "3bc52f6d-f5d3-4774-8837-883ec7d86cbe",
   "metadata": {},
   "outputs": [
    {
     "name": "stdout",
     "output_type": "stream",
     "text": [
      "<class 'pandas.core.frame.DataFrame'>\n",
      "RangeIndex: 198900 entries, 0 to 198899\n",
      "Data columns (total 6 columns):\n",
      " #   Column                         Non-Null Count   Dtype  \n",
      "---  ------                         --------------   -----  \n",
      " 0   Entity                         198900 non-null  object \n",
      " 1   Code                           198900 non-null  object \n",
      " 2   year                           198900 non-null  int64  \n",
      " 3   Day                            198900 non-null  object \n",
      " 4   Average surface temperature    198900 non-null  float64\n",
      " 5   Average surface temperature.1  198900 non-null  float64\n",
      "dtypes: float64(2), int64(1), object(3)\n",
      "memory usage: 9.1+ MB\n"
     ]
    }
   ],
   "source": [
    "df.info()"
   ]
  },
  {
   "cell_type": "code",
   "execution_count": 8,
   "id": "21b96aa0-8136-4c4f-a434-c1bb07dcaf5c",
   "metadata": {},
   "outputs": [
    {
     "data": {
      "text/plain": [
       "Entity                           0\n",
       "Code                             0\n",
       "year                             0\n",
       "Day                              0\n",
       "Average surface temperature      0\n",
       "Average surface temperature.1    0\n",
       "dtype: int64"
      ]
     },
     "execution_count": 8,
     "metadata": {},
     "output_type": "execute_result"
    }
   ],
   "source": [
    "df.isnull().sum()"
   ]
  },
  {
   "cell_type": "code",
   "execution_count": 9,
   "id": "a507c410-4f3e-4dda-b6b2-db274e2c4ce0",
   "metadata": {},
   "outputs": [
    {
     "data": {
      "text/plain": [
       "Entity                              195\n",
       "Code                                195\n",
       "year                                 85\n",
       "Day                                1020\n",
       "Average surface temperature      196959\n",
       "Average surface temperature.1     16557\n",
       "dtype: int64"
      ]
     },
     "execution_count": 9,
     "metadata": {},
     "output_type": "execute_result"
    }
   ],
   "source": [
    "df.nunique()"
   ]
  },
  {
   "cell_type": "code",
   "execution_count": 10,
   "id": "3c33424a-1ca6-4139-9b60-493de566ab16",
   "metadata": {},
   "outputs": [
    {
     "data": {
      "text/plain": [
       "0"
      ]
     },
     "execution_count": 10,
     "metadata": {},
     "output_type": "execute_result"
    }
   ],
   "source": [
    "df.duplicated().sum()"
   ]
  },
  {
   "cell_type": "code",
   "execution_count": 11,
   "id": "6834c358-a161-439e-a66f-e6dac02044e1",
   "metadata": {},
   "outputs": [
    {
     "data": {
      "text/plain": [
       "(198900, 6)"
      ]
     },
     "execution_count": 11,
     "metadata": {},
     "output_type": "execute_result"
    }
   ],
   "source": [
    "df.shape"
   ]
  },
  {
   "cell_type": "code",
   "execution_count": null,
   "id": "776fbbe0-dd24-49b8-b3b2-cdbdc7e7ad7d",
   "metadata": {},
   "outputs": [],
   "source": [
    "# About Dataset\n",
    "# Description\n",
    "\n",
    "# This Dataset contains details of Average Monthly surface temperature (1940-2024).\n",
    "# Current climate change is primarily caused by human emissions of greenhouse gases.\n",
    "# This warming can drive large changes in sea level, sea ice and glacier balances, rainfall patterns, and extreme temperatures.\n",
    "# This has potentially devastating impacts on human health, farming systems, the stability of societies, and other species.\n",
    "\n",
    "# Attribute Information\n",
    "\n",
    "# Country Name : The name of the countries.\n",
    "# Country Code : Code of the countries.\n",
    "# Year : Years\n",
    "# Day: Date\n",
    "# Average surface temperature : Daily Average surface temperature\n",
    "# Average surface temperature : Yearly Average surface temperature\n",
    "# Acknowledgements\n",
    "\n",
    "# https://data.worldbank.org/indicator"
   ]
  }
 ],
 "metadata": {
  "kernelspec": {
   "display_name": "Python 3 (ipykernel)",
   "language": "python",
   "name": "python3"
  },
  "language_info": {
   "codemirror_mode": {
    "name": "ipython",
    "version": 3
   },
   "file_extension": ".py",
   "mimetype": "text/x-python",
   "name": "python",
   "nbconvert_exporter": "python",
   "pygments_lexer": "ipython3",
   "version": "3.12.7"
  }
 },
 "nbformat": 4,
 "nbformat_minor": 5
}
